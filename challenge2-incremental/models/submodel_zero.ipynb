{
 "cells": [
  {
   "cell_type": "code",
   "execution_count": 1,
   "metadata": {},
   "outputs": [],
   "source": [
    "import pandas as pd\n",
    "\n",
    "node1_df = pd.read_csv('node1.csv')"
   ]
  },
  {
   "cell_type": "code",
   "execution_count": 2,
   "metadata": {},
   "outputs": [
    {
     "name": "stderr",
     "output_type": "stream",
     "text": [
      "[nltk_data] Downloading package punkt to\n",
      "[nltk_data]     C:\\Users\\leo_c\\AppData\\Roaming\\nltk_data...\n",
      "[nltk_data]   Package punkt is already up-to-date!\n"
     ]
    }
   ],
   "source": [
    "import nltk\n",
    "import random\n",
    "from nltk.tokenize import word_tokenize\n",
    "\n",
    "# Ensure the necessary NLTK components are downloaded\n",
    "nltk.download('punkt')\n",
    "\n",
    "def build_markov_model(data, n_gram=2):\n",
    "    model = {}\n",
    "    for sentence in data:\n",
    "        sentence = word_tokenize(sentence.lower())\n",
    "        for i in range(len(sentence) - n_gram):\n",
    "            gram = tuple(sentence[i:i + n_gram])\n",
    "            next_word = sentence[i + n_gram]\n",
    "            if gram not in model:\n",
    "                model[gram] = {}\n",
    "            if next_word not in model[gram]:\n",
    "                model[gram][next_word] = 0\n",
    "            model[gram][next_word] += 1\n",
    "    return model\n",
    "\n",
    "def generate_sentence(model, max_length=20):\n",
    "    sentence = []\n",
    "    n_gram = list(model.keys())[random.randint(0, len(model) - 1)]\n",
    "    sentence.extend(n_gram)\n",
    "    for _ in range(max_length - len(n_gram)):\n",
    "        last_gram = tuple(sentence[-len(n_gram):])\n",
    "        if last_gram in model:\n",
    "            next_words = model[last_gram]\n",
    "            next_word = random.choices(list(next_words.keys()), weights=next_words.values())[0]\n",
    "            sentence.append(next_word)\n",
    "        else:\n",
    "            break\n",
    "    return ' '.join(sentence)\n",
    "\n",
    "def submodel_zero(dataset):\n",
    "    captions = dataset['Caption'].tolist()\n",
    "    markov_model = build_markov_model(captions)\n",
    "\n",
    "    synthesized_captions = []\n",
    "    for _ in range(5):\n",
    "        synthesized_captions.append(generate_sentence(markov_model))\n",
    "\n",
    "    return pd.DataFrame(synthesized_captions, columns=['Caption'])"
   ]
  },
  {
   "cell_type": "code",
   "execution_count": 5,
   "metadata": {},
   "outputs": [
    {
     "data": {
      "text/html": [
       "<div>\n",
       "<style scoped>\n",
       "    .dataframe tbody tr th:only-of-type {\n",
       "        vertical-align: middle;\n",
       "    }\n",
       "\n",
       "    .dataframe tbody tr th {\n",
       "        vertical-align: top;\n",
       "    }\n",
       "\n",
       "    .dataframe thead th {\n",
       "        text-align: right;\n",
       "    }\n",
       "</style>\n",
       "<table border=\"1\" class=\"dataframe\">\n",
       "  <thead>\n",
       "    <tr style=\"text-align: right;\">\n",
       "      <th></th>\n",
       "      <th>Caption</th>\n",
       "    </tr>\n",
       "  </thead>\n",
       "  <tbody>\n",
       "    <tr>\n",
       "      <th>0</th>\n",
       "      <td>crouching down next to two water bottles</td>\n",
       "    </tr>\n",
       "    <tr>\n",
       "      <th>1</th>\n",
       "      <td>the adrenaline rush of bungee jumping</td>\n",
       "    </tr>\n",
       "    <tr>\n",
       "      <th>2</th>\n",
       "      <td>to two water bottles</td>\n",
       "    </tr>\n",
       "    <tr>\n",
       "      <th>3</th>\n",
       "      <td>shaved her head in a black dress</td>\n",
       "    </tr>\n",
       "    <tr>\n",
       "      <th>4</th>\n",
       "      <td>with green grass</td>\n",
       "    </tr>\n",
       "  </tbody>\n",
       "</table>\n",
       "</div>"
      ],
      "text/plain": [
       "                                    Caption\n",
       "0  crouching down next to two water bottles\n",
       "1     the adrenaline rush of bungee jumping\n",
       "2                      to two water bottles\n",
       "3          shaved her head in a black dress\n",
       "4                          with green grass"
      ]
     },
     "execution_count": 5,
     "metadata": {},
     "output_type": "execute_result"
    }
   ],
   "source": [
    "new_captions = submodel_zero(node1_df)\n",
    "new_captions"
   ]
  },
  {
   "cell_type": "code",
   "execution_count": null,
   "metadata": {},
   "outputs": [],
   "source": []
  }
 ],
 "metadata": {
  "kernelspec": {
   "display_name": "base",
   "language": "python",
   "name": "python3"
  },
  "language_info": {
   "codemirror_mode": {
    "name": "ipython",
    "version": 3
   },
   "file_extension": ".py",
   "mimetype": "text/x-python",
   "name": "python",
   "nbconvert_exporter": "python",
   "pygments_lexer": "ipython3",
   "version": "3.10.9"
  }
 },
 "nbformat": 4,
 "nbformat_minor": 2
}
